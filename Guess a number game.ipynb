{
 "cells": [
  {
   "cell_type": "code",
   "execution_count": 1,
   "metadata": {},
   "outputs": [
    {
     "name": "stdout",
     "output_type": "stream",
     "text": [
      "Hi! What is your name?\n",
      "Nehal\n",
      "Nehal  guess the number between 1 and 20\n",
      "you have 4 attempts\n",
      "5\n",
      "The Guess is  Low\n",
      "10\n",
      "Well Done Nehal. You guess the right number 10.\n"
     ]
    }
   ],
   "source": [
    "import random\n",
    "\n",
    "print(\"Hi! What is your name?\")\n",
    "name=input()\n",
    "print(name,' guess the number between 1 and 20')\n",
    "print(\"you have 4 attempts\")\n",
    "secretnumber=random.randint(1,20)\n",
    "n=0\n",
    "for i in range(4):\n",
    "    n=int(input())\n",
    "    if secretnumber == n:\n",
    "        break\n",
    "    elif n>secretnumber:\n",
    "        print(\"The Guess is  High\")\n",
    "    elif n<secretnumber:\n",
    "        print(\"The Guess is  Low\")\n",
    "if n==secretnumber:\n",
    "    print(\"Well Done \"+name+\". You guess the right number \"+str(n)+\".\")\n",
    "        \n",
    "else:\n",
    "    print(\"NOPE! The correct Number is \"+str(secretnumber))\n",
    "    print(\"Try Again\")\n"
   ]
  },
  {
   "cell_type": "code",
   "execution_count": null,
   "metadata": {},
   "outputs": [],
   "source": []
  }
 ],
 "metadata": {
  "kernelspec": {
   "display_name": "Python 3",
   "language": "python",
   "name": "python3"
  },
  "language_info": {
   "codemirror_mode": {
    "name": "ipython",
    "version": 3
   },
   "file_extension": ".py",
   "mimetype": "text/x-python",
   "name": "python",
   "nbconvert_exporter": "python",
   "pygments_lexer": "ipython3",
   "version": "3.6.10"
  }
 },
 "nbformat": 4,
 "nbformat_minor": 4
}
